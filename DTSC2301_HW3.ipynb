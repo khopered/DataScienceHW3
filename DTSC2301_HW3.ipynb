{
 "cells": [
  {
   "cell_type": "code",
   "execution_count": 1,
   "id": "4316b9e9-9922-4f95-957a-fb7570954bfd",
   "metadata": {
    "tags": []
   },
   "outputs": [],
   "source": [
    "# Import libraries needed for scraping\n",
    "import requests\n",
    "import pandas as pd\n",
    "from bs4 import BeautifulSoup"
   ]
  },
  {
   "cell_type": "code",
   "execution_count": 2,
   "id": "d2006a1c-ba61-4cc2-8b2f-e763ec3ad57c",
   "metadata": {
    "tags": []
   },
   "outputs": [],
   "source": [
    "# Create a veriable to refer to the url you are scraping from\n",
    "url = \"https://webpages.charlotte.edu/mscipion/\""
   ]
  },
  {
   "cell_type": "code",
   "execution_count": 3,
   "id": "b78a9def-09d7-431e-987a-ee558edd0aa7",
   "metadata": {
    "tags": []
   },
   "outputs": [
    {
     "name": "stdout",
     "output_type": "stream",
     "text": [
      "<Response [200]>\n"
     ]
    }
   ],
   "source": [
    "# Send HTTP request\n",
    "response = requests.get(url)\n",
    "print(response)"
   ]
  },
  {
   "cell_type": "code",
   "execution_count": 4,
   "id": "39622296-a5b0-4cd1-b54a-3e9f9381f166",
   "metadata": {
    "tags": []
   },
   "outputs": [],
   "source": [
    "# Make the Beautiful Soup parser and parse the page for content\n",
    "soup = BeautifulSoup(response.content, 'html.parser')"
   ]
  },
  {
   "cell_type": "code",
   "execution_count": 5,
   "id": "bb42011d-6bd6-4e18-a656-f63c5bc3a6fc",
   "metadata": {
    "tags": []
   },
   "outputs": [],
   "source": [
    "# Find the table \n",
    "table = soup.find('table')"
   ]
  },
  {
   "cell_type": "code",
   "execution_count": 6,
   "id": "ecce7227-f56f-4c0a-b7de-ab42032339fd",
   "metadata": {
    "tags": []
   },
   "outputs": [],
   "source": [
    "# Make empty lists to extract table data to\n",
    "tbl_data = []\n",
    "hdrs = []"
   ]
  },
  {
   "cell_type": "code",
   "execution_count": 7,
   "id": "9000eb7a-c61a-46fa-8f14-5d21d129fe6a",
   "metadata": {
    "tags": []
   },
   "outputs": [],
   "source": [
    "# Find all the headers\n",
    "for th in table.find_all('th'):\n",
    "    hdrs.append(th.text.strip())"
   ]
  },
  {
   "cell_type": "code",
   "execution_count": 8,
   "id": "0e24a756-ebbc-44d0-92a6-64bd17437597",
   "metadata": {
    "tags": []
   },
   "outputs": [],
   "source": [
    "# Find all the rows\n",
    "for row in table.find_all('tr')[1:]: # Skips the header row\n",
    "    cols = row.find_all('td')\n",
    "    cols = [ele.text.strip() for ele in cols]\n",
    "    tbl_data.append(cols)"
   ]
  },
  {
   "cell_type": "code",
   "execution_count": 9,
   "id": "d93f24cf-9259-4160-bb23-cecf534edde3",
   "metadata": {
    "tags": []
   },
   "outputs": [
    {
     "data": {
      "text/html": [
       "<div>\n",
       "<style scoped>\n",
       "    .dataframe tbody tr th:only-of-type {\n",
       "        vertical-align: middle;\n",
       "    }\n",
       "\n",
       "    .dataframe tbody tr th {\n",
       "        vertical-align: top;\n",
       "    }\n",
       "\n",
       "    .dataframe thead th {\n",
       "        text-align: right;\n",
       "    }\n",
       "</style>\n",
       "<table border=\"1\" class=\"dataframe\">\n",
       "  <thead>\n",
       "    <tr style=\"text-align: right;\">\n",
       "      <th></th>\n",
       "      <th>Student</th>\n",
       "      <th>Favourite Computer Language</th>\n",
       "      <th>Years of Experience</th>\n",
       "    </tr>\n",
       "  </thead>\n",
       "  <tbody>\n",
       "    <tr>\n",
       "      <th>0</th>\n",
       "      <td>Fred</td>\n",
       "      <td>Kotlin</td>\n",
       "      <td>4</td>\n",
       "    </tr>\n",
       "    <tr>\n",
       "      <th>1</th>\n",
       "      <td>Paula</td>\n",
       "      <td>Python</td>\n",
       "      <td>2</td>\n",
       "    </tr>\n",
       "    <tr>\n",
       "      <th>2</th>\n",
       "      <td>Ernst</td>\n",
       "      <td>Java</td>\n",
       "      <td>7</td>\n",
       "    </tr>\n",
       "    <tr>\n",
       "      <th>3</th>\n",
       "      <td>Isabel</td>\n",
       "      <td>C++</td>\n",
       "      <td>3</td>\n",
       "    </tr>\n",
       "    <tr>\n",
       "      <th>4</th>\n",
       "      <td>Tony</td>\n",
       "      <td>Pearl</td>\n",
       "      <td>7</td>\n",
       "    </tr>\n",
       "  </tbody>\n",
       "</table>\n",
       "</div>"
      ],
      "text/plain": [
       "  Student Favourite Computer Language Years of Experience\n",
       "0    Fred                      Kotlin                   4\n",
       "1   Paula                      Python                   2\n",
       "2   Ernst                        Java                   7\n",
       "3  Isabel                         C++                   3\n",
       "4    Tony                       Pearl                   7"
      ]
     },
     "execution_count": 9,
     "metadata": {},
     "output_type": "execute_result"
    }
   ],
   "source": [
    "# Create scraped DataFrame using pandas\n",
    "df = pd.DataFrame(tbl_data, columns=hdrs)\n",
    "df.head()"
   ]
  }
 ],
 "metadata": {
  "kernelspec": {
   "display_name": "Python 3 (ipykernel)",
   "language": "python",
   "name": "python3"
  },
  "language_info": {
   "codemirror_mode": {
    "name": "ipython",
    "version": 3
   },
   "file_extension": ".py",
   "mimetype": "text/x-python",
   "name": "python",
   "nbconvert_exporter": "python",
   "pygments_lexer": "ipython3",
   "version": "3.11.4"
  }
 },
 "nbformat": 4,
 "nbformat_minor": 5
}
